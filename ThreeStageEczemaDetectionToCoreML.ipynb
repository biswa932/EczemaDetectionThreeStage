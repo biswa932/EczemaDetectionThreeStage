{
  "nbformat": 4,
  "nbformat_minor": 0,
  "metadata": {
    "colab": {
      "provenance": [],
      "mount_file_id": "1rcU2SN_Az7Zcj_RWgSx2giJVlkSM8YfJ",
      "authorship_tag": "ABX9TyMghckTrIUpL09vO2fSZK/p",
      "include_colab_link": true
    },
    "kernelspec": {
      "name": "python3",
      "display_name": "Python 3"
    },
    "language_info": {
      "name": "python"
    }
  },
  "cells": [
    {
      "cell_type": "markdown",
      "metadata": {
        "id": "view-in-github",
        "colab_type": "text"
      },
      "source": [
        "<a href=\"https://colab.research.google.com/github/biswa932/EczemaDetectionThreeStage/blob/main/ThreeStageEczemaDetectionToCoreML.ipynb\" target=\"_parent\"><img src=\"https://colab.research.google.com/assets/colab-badge.svg\" alt=\"Open In Colab\"/></a>"
      ]
    },
    {
      "cell_type": "code",
      "execution_count": 1,
      "metadata": {
        "colab": {
          "base_uri": "https://localhost:8080/"
        },
        "id": "TccSBaa_jMgV",
        "outputId": "02c11f80-a65c-4c50-f628-a6857cf6c675"
      },
      "outputs": [
        {
          "output_type": "stream",
          "name": "stdout",
          "text": [
            "Collecting coremltools\n",
            "  Downloading coremltools-7.1-cp310-none-manylinux1_x86_64.whl (1.9 MB)\n",
            "\u001b[2K     \u001b[90m━━━━━━━━━━━━━━━━━━━━━━━━━━━━━━━━━━━━━━━━\u001b[0m \u001b[32m1.9/1.9 MB\u001b[0m \u001b[31m7.5 MB/s\u001b[0m eta \u001b[36m0:00:00\u001b[0m\n",
            "\u001b[?25hRequirement already satisfied: numpy>=1.14.5 in /usr/local/lib/python3.10/dist-packages (from coremltools) (1.23.5)\n",
            "Requirement already satisfied: protobuf<=4.0.0,>=3.1.0 in /usr/local/lib/python3.10/dist-packages (from coremltools) (3.20.3)\n",
            "Requirement already satisfied: sympy in /usr/local/lib/python3.10/dist-packages (from coremltools) (1.12)\n",
            "Requirement already satisfied: tqdm in /usr/local/lib/python3.10/dist-packages (from coremltools) (4.66.1)\n",
            "Requirement already satisfied: packaging in /usr/local/lib/python3.10/dist-packages (from coremltools) (23.2)\n",
            "Requirement already satisfied: attrs>=21.3.0 in /usr/local/lib/python3.10/dist-packages (from coremltools) (23.1.0)\n",
            "Collecting cattrs (from coremltools)\n",
            "  Downloading cattrs-23.2.3-py3-none-any.whl (57 kB)\n",
            "\u001b[2K     \u001b[90m━━━━━━━━━━━━━━━━━━━━━━━━━━━━━━━━━━━━━━━━\u001b[0m \u001b[32m57.5/57.5 kB\u001b[0m \u001b[31m5.0 MB/s\u001b[0m eta \u001b[36m0:00:00\u001b[0m\n",
            "\u001b[?25hCollecting pyaml (from coremltools)\n",
            "  Downloading pyaml-23.12.0-py3-none-any.whl (23 kB)\n",
            "Requirement already satisfied: exceptiongroup>=1.1.1 in /usr/local/lib/python3.10/dist-packages (from cattrs->coremltools) (1.2.0)\n",
            "Requirement already satisfied: typing-extensions!=4.6.3,>=4.1.0 in /usr/local/lib/python3.10/dist-packages (from cattrs->coremltools) (4.5.0)\n",
            "Requirement already satisfied: PyYAML in /usr/local/lib/python3.10/dist-packages (from pyaml->coremltools) (6.0.1)\n",
            "Requirement already satisfied: mpmath>=0.19 in /usr/local/lib/python3.10/dist-packages (from sympy->coremltools) (1.3.0)\n",
            "Installing collected packages: pyaml, cattrs, coremltools\n",
            "Successfully installed cattrs-23.2.3 coremltools-7.1 pyaml-23.12.0\n"
          ]
        }
      ],
      "source": [
        "!pip install coremltools"
      ]
    },
    {
      "cell_type": "code",
      "source": [
        "import tensorflow as tf\n",
        "import tensorflow_hub as hub\n",
        "import coremltools as ct\n",
        "import numpy as np\n",
        "from tensorflow import keras"
      ],
      "metadata": {
        "id": "Z0S3Mr9RpMBP"
      },
      "execution_count": 3,
      "outputs": []
    },
    {
      "cell_type": "code",
      "source": [
        "skin_detection_loaded_model = tf.keras.models.load_model((\"/content/drive/MyDrive/Colab Notebooks/skinDetection.h5\"), custom_objects={'KerasLayer':hub.KerasLayer})\n",
        "eczema_detection_loaded_model = tf.keras.models.load_model((\"/content/drive/MyDrive/Colab Notebooks/eczemaDetection.h5\"), custom_objects={'KerasLayer':hub.KerasLayer})\n",
        "eczema_level_detection_loaded_model = tf.keras.models.load_model((\"/content/drive/MyDrive/Colab Notebooks/eczemaLevelDetection.h5\"), custom_objects={'KerasLayer':hub.KerasLayer})"
      ],
      "metadata": {
        "id": "4rAZXEn8qIeO"
      },
      "execution_count": 18,
      "outputs": []
    },
    {
      "cell_type": "code",
      "source": [
        "image_input = ct.ImageType(shape=(1, 224, 224, 3,), scale=1/255)\n",
        "image_input2 = ct.ImageType(shape=(1, 224, 224, 3,), scale=1/255)\n",
        "image_input3 = ct.ImageType(shape=(1, 224, 224, 3,), scale=1/255)\n",
        "skin_detection_class_labels = ['invalid', 'skin']\n",
        "eczema_detection_class_labels = ['none', 'eczema']\n",
        "eczema_level_class_labels = ['mild', 'moderate','severe']"
      ],
      "metadata": {
        "id": "ojiveOivqS-4"
      },
      "execution_count": 27,
      "outputs": []
    },
    {
      "cell_type": "code",
      "source": [
        "skin_detection_classifier_config = ct.ClassifierConfig(skin_detection_class_labels)\n",
        "eczema_detection_classifier_config = ct.ClassifierConfig(eczema_detection_class_labels)\n",
        "eczema_level_classifier_config = ct.ClassifierConfig(eczema_level_class_labels)"
      ],
      "metadata": {
        "id": "_yDfe-HHsV0U"
      },
      "execution_count": 24,
      "outputs": []
    },
    {
      "cell_type": "code",
      "source": [
        "skin_detection_coreML_model_file = ct.convert(\n",
        "    skin_detection_loaded_model,\n",
        "    convert_to=\"neuralnetwork\",\n",
        "    inputs=[image_input],\n",
        "    classifier_config=skin_detection_classifier_config,\n",
        ")\n",
        "# Set feature descriptions (these show up as comments in XCode)\n",
        "skin_detection_coreML_model_file.input_description[\"input_1\"] = \"Input image to be classified\"\n",
        "skin_detection_coreML_model_file.output_description[\"classLabel\"] = \"Image category\"\n",
        "\n",
        "# Set model author name\n",
        "skin_detection_coreML_model_file.author = 'Biswajyoti Saha'\n",
        "\n",
        "# Set the license of the model\n",
        "skin_detection_coreML_model_file.license = \"Please see https://github.com/tensorflow/tensorflow for license information.\"\n",
        "\n",
        "# Set a short description for the Xcode UI\n",
        "skin_detection_coreML_model_file.short_description = \"Detects if passed image is skin or not\"\n",
        "\n",
        "# Set the preview type\n",
        "skin_detection_coreML_model_file.user_defined_metadata[\"com.apple.coreml.model.preview.type\"] = \"imageClassifier\"\n",
        "\n",
        "# Set a version for the model\n",
        "skin_detection_coreML_model_file.version = \"1.0\"\n",
        "skin_detection_coreML_model_file.save(\"/content/drive/MyDrive/Colab Notebooks/SkinDetectionModelFile.mlmodel\")"
      ],
      "metadata": {
        "colab": {
          "base_uri": "https://localhost:8080/"
        },
        "id": "MPinm2mDvQu7",
        "outputId": "85ef0907-8e25-40c7-f25c-269a3a1a80b5"
      },
      "execution_count": 25,
      "outputs": [
        {
          "output_type": "stream",
          "name": "stderr",
          "text": [
            "Running TensorFlow Graph Passes: 100%|██████████| 6/6 [00:00<00:00, 11.04 passes/s]\n",
            "Converting TF Frontend ==> MIL Ops: 100%|██████████| 422/422 [00:00<00:00, 1093.03 ops/s]\n",
            "Running MIL frontend_tensorflow2 pipeline: 100%|██████████| 7/7 [00:00<00:00, 205.79 passes/s]\n",
            "Running MIL default pipeline: 100%|██████████| 69/69 [00:02<00:00, 28.63 passes/s]\n",
            "Running MIL backend_neuralnetwork pipeline: 100%|██████████| 9/9 [00:00<00:00, 280.33 passes/s]\n",
            "Translating MIL ==> NeuralNetwork Ops: 100%|██████████| 480/480 [00:01<00:00, 425.41 ops/s]\n"
          ]
        }
      ]
    },
    {
      "cell_type": "code",
      "source": [
        "eczema_detection_coreML_model_file = ct.convert(\n",
        "    eczema_detection_loaded_model,\n",
        "    convert_to=\"neuralnetwork\",\n",
        "    inputs=[image_input2],\n",
        "    classifier_config=eczema_detection_classifier_config,\n",
        ")\n",
        "# Set feature descriptions (these show up as comments in XCode)\n",
        "eczema_detection_coreML_model_file.input_description[\"input_2\"] = \"Input image to be classified\"\n",
        "eczema_detection_coreML_model_file.output_description[\"classLabel\"] = \"Image category\"\n",
        "\n",
        "# Set model author name\n",
        "eczema_detection_coreML_model_file.author = 'Biswajyoti Saha'\n",
        "\n",
        "# Set the license of the model\n",
        "eczema_detection_coreML_model_file.license = \"Please see https://github.com/tensorflow/tensorflow for license information.\"\n",
        "\n",
        "# Set a short description for the Xcode UI\n",
        "eczema_detection_coreML_model_file.short_description = \"Detects if passed skin image has eczema or not\"\n",
        "\n",
        "# Set the preview type\n",
        "eczema_detection_coreML_model_file.user_defined_metadata[\"com.apple.coreml.model.preview.type\"] = \"imageClassifier\"\n",
        "\n",
        "# Set a version for the model\n",
        "eczema_detection_coreML_model_file.version = \"1.0\"\n",
        "eczema_detection_coreML_model_file.save(\"/content/drive/MyDrive/Colab Notebooks/EczemaDetectionModelFile.mlmodel\")"
      ],
      "metadata": {
        "colab": {
          "base_uri": "https://localhost:8080/"
        },
        "id": "OGyGvzpfx-C8",
        "outputId": "b5efef61-990a-43e6-a850-bbc8245bc35f"
      },
      "execution_count": 28,
      "outputs": [
        {
          "output_type": "stream",
          "name": "stderr",
          "text": [
            "Running TensorFlow Graph Passes: 100%|██████████| 6/6 [00:00<00:00,  8.87 passes/s]\n",
            "Converting TF Frontend ==> MIL Ops: 100%|██████████| 422/422 [00:01<00:00, 367.61 ops/s] \n",
            "Running MIL frontend_tensorflow2 pipeline: 100%|██████████| 7/7 [00:00<00:00, 108.65 passes/s]\n",
            "Running MIL default pipeline: 100%|██████████| 69/69 [00:02<00:00, 27.39 passes/s]\n",
            "Running MIL backend_neuralnetwork pipeline: 100%|██████████| 9/9 [00:00<00:00, 428.11 passes/s]\n",
            "Translating MIL ==> NeuralNetwork Ops: 100%|██████████| 480/480 [00:00<00:00, 756.67 ops/s] \n"
          ]
        }
      ]
    },
    {
      "cell_type": "code",
      "source": [
        "eczema_level_coreML_model_file = ct.convert(\n",
        "    eczema_level_detection_loaded_model,\n",
        "    convert_to=\"neuralnetwork\",\n",
        "    inputs=[image_input3],\n",
        "    classifier_config=eczema_level_classifier_config,\n",
        ")\n",
        "# Set feature descriptions (these show up as comments in XCode)\n",
        "eczema_level_coreML_model_file.input_description[\"input_3\"] = \"Input image to be classified\"\n",
        "eczema_level_coreML_model_file.output_description[\"classLabel\"] = \"Image category\"\n",
        "\n",
        "# Set model author name\n",
        "eczema_level_coreML_model_file.author = 'Biswajyoti Saha'\n",
        "\n",
        "# Set the license of the model\n",
        "eczema_level_coreML_model_file.license = \"Please see https://github.com/tensorflow/tensorflow for license information.\"\n",
        "\n",
        "# Set a short description for the Xcode UI\n",
        "eczema_level_coreML_model_file.short_description = \"Detects level of eczema\"\n",
        "\n",
        "# Set the preview type\n",
        "eczema_level_coreML_model_file.user_defined_metadata[\"com.apple.coreml.model.preview.type\"] = \"imageClassifier\"\n",
        "\n",
        "# Set a version for the model\n",
        "eczema_level_coreML_model_file.version = \"1.0\"\n",
        "eczema_level_coreML_model_file.save(\"/content/drive/MyDrive/Colab Notebooks/EczemaLevelDetectionModelFile.mlmodel\")"
      ],
      "metadata": {
        "colab": {
          "base_uri": "https://localhost:8080/"
        },
        "id": "cl_RBtWI_m3_",
        "outputId": "b75e7d3e-307d-4cfd-a244-59780fd6f0c5"
      },
      "execution_count": 29,
      "outputs": [
        {
          "output_type": "stream",
          "name": "stderr",
          "text": [
            "Running TensorFlow Graph Passes: 100%|██████████| 6/6 [00:00<00:00,  8.19 passes/s]\n",
            "Converting TF Frontend ==> MIL Ops: 100%|██████████| 422/422 [00:00<00:00, 709.35 ops/s] \n",
            "Running MIL frontend_tensorflow2 pipeline: 100%|██████████| 7/7 [00:00<00:00, 124.73 passes/s]\n",
            "Running MIL default pipeline: 100%|██████████| 69/69 [00:02<00:00, 25.56 passes/s]\n",
            "Running MIL backend_neuralnetwork pipeline: 100%|██████████| 9/9 [00:00<00:00, 395.71 passes/s]\n",
            "Translating MIL ==> NeuralNetwork Ops: 100%|██████████| 480/480 [00:00<00:00, 770.29 ops/s] \n"
          ]
        }
      ]
    }
  ]
}